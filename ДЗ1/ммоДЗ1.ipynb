{
 "cells": [
  {
   "cell_type": "code",
   "execution_count": 1,
   "metadata": {
    "colab": {
     "base_uri": "https://localhost:8080/"
    },
    "executionInfo": {
     "elapsed": 2245,
     "status": "ok",
     "timestamp": 1618665982337,
     "user": {
      "displayName": "zhibo zhang",
      "photoUrl": "https://lh3.googleusercontent.com/a-/AOh14Gh8_y4pfqR32K5ts_cWnnNmRU9hz13PqIdespQy=s64",
      "userId": "09431813280733956316"
     },
     "user_tz": -180
    },
    "id": "xIWAoTYyhMla",
    "outputId": "82eeeda6-b664-47f0-94ba-2d2edb4349d2"
   },
   "outputs": [],
   "source": [
    "from sklearn import preprocessing, metrics\n",
    "from sklearn.model_selection import train_test_split\n",
    "import numpy as np\n",
    "import pandas as pd\n",
    "import seaborn as sns\n",
    "import matplotlib.pyplot as plt\n",
    "sns.set(style=\"ticks\", color_codes=True)"
   ]
  },
  {
   "cell_type": "code",
   "execution_count": 2,
   "metadata": {
    "executionInfo": {
     "elapsed": 3776,
     "status": "ok",
     "timestamp": 1618665983882,
     "user": {
      "displayName": "zhibo zhang",
      "photoUrl": "https://lh3.googleusercontent.com/a-/AOh14Gh8_y4pfqR32K5ts_cWnnNmRU9hz13PqIdespQy=s64",
      "userId": "09431813280733956316"
     },
     "user_tz": -180
    },
    "id": "8o6YN7abmn3P"
   },
   "outputs": [],
   "source": [
    "dataset = pd.read_csv(r\"D:/DATA/AB_NYC_2019.csv\")"
   ]
  },
  {
   "cell_type": "code",
   "execution_count": 3,
   "metadata": {
    "colab": {
     "base_uri": "https://localhost:8080/",
     "height": 732
    },
    "executionInfo": {
     "elapsed": 3768,
     "status": "ok",
     "timestamp": 1618665983883,
     "user": {
      "displayName": "zhibo zhang",
      "photoUrl": "https://lh3.googleusercontent.com/a-/AOh14Gh8_y4pfqR32K5ts_cWnnNmRU9hz13PqIdespQy=s64",
      "userId": "09431813280733956316"
     },
     "user_tz": -180
    },
    "id": "z8l5a8-Tm7-f",
    "outputId": "2dc6b6e3-2403-4ade-dd19-61f4149fc63d"
   },
   "outputs": [
    {
     "data": {
      "text/html": [
       "<div>\n",
       "<style scoped>\n",
       "    .dataframe tbody tr th:only-of-type {\n",
       "        vertical-align: middle;\n",
       "    }\n",
       "\n",
       "    .dataframe tbody tr th {\n",
       "        vertical-align: top;\n",
       "    }\n",
       "\n",
       "    .dataframe thead th {\n",
       "        text-align: right;\n",
       "    }\n",
       "</style>\n",
       "<table border=\"1\" class=\"dataframe\">\n",
       "  <thead>\n",
       "    <tr style=\"text-align: right;\">\n",
       "      <th></th>\n",
       "      <th>id</th>\n",
       "      <th>name</th>\n",
       "      <th>host_id</th>\n",
       "      <th>host_name</th>\n",
       "      <th>neighbourhood_group</th>\n",
       "      <th>neighbourhood</th>\n",
       "      <th>latitude</th>\n",
       "      <th>longitude</th>\n",
       "      <th>room_type</th>\n",
       "      <th>price</th>\n",
       "      <th>minimum_nights</th>\n",
       "      <th>number_of_reviews</th>\n",
       "      <th>last_review</th>\n",
       "      <th>reviews_per_month</th>\n",
       "      <th>calculated_host_listings_count</th>\n",
       "      <th>availability_365</th>\n",
       "    </tr>\n",
       "  </thead>\n",
       "  <tbody>\n",
       "    <tr>\n",
       "      <th>0</th>\n",
       "      <td>2539</td>\n",
       "      <td>Clean &amp; quiet apt home by the park</td>\n",
       "      <td>2787</td>\n",
       "      <td>John</td>\n",
       "      <td>Brooklyn</td>\n",
       "      <td>Kensington</td>\n",
       "      <td>40.64749</td>\n",
       "      <td>-73.97237</td>\n",
       "      <td>Private room</td>\n",
       "      <td>149</td>\n",
       "      <td>1</td>\n",
       "      <td>9</td>\n",
       "      <td>2018-10-19</td>\n",
       "      <td>0.21</td>\n",
       "      <td>6</td>\n",
       "      <td>365</td>\n",
       "    </tr>\n",
       "    <tr>\n",
       "      <th>1</th>\n",
       "      <td>2595</td>\n",
       "      <td>Skylit Midtown Castle</td>\n",
       "      <td>2845</td>\n",
       "      <td>Jennifer</td>\n",
       "      <td>Manhattan</td>\n",
       "      <td>Midtown</td>\n",
       "      <td>40.75362</td>\n",
       "      <td>-73.98377</td>\n",
       "      <td>Entire home/apt</td>\n",
       "      <td>225</td>\n",
       "      <td>1</td>\n",
       "      <td>45</td>\n",
       "      <td>2019-05-21</td>\n",
       "      <td>0.38</td>\n",
       "      <td>2</td>\n",
       "      <td>355</td>\n",
       "    </tr>\n",
       "    <tr>\n",
       "      <th>2</th>\n",
       "      <td>3647</td>\n",
       "      <td>THE VILLAGE OF HARLEM....NEW YORK !</td>\n",
       "      <td>4632</td>\n",
       "      <td>Elisabeth</td>\n",
       "      <td>Manhattan</td>\n",
       "      <td>Harlem</td>\n",
       "      <td>40.80902</td>\n",
       "      <td>-73.94190</td>\n",
       "      <td>Private room</td>\n",
       "      <td>150</td>\n",
       "      <td>3</td>\n",
       "      <td>0</td>\n",
       "      <td>NaN</td>\n",
       "      <td>NaN</td>\n",
       "      <td>1</td>\n",
       "      <td>365</td>\n",
       "    </tr>\n",
       "    <tr>\n",
       "      <th>3</th>\n",
       "      <td>3831</td>\n",
       "      <td>Cozy Entire Floor of Brownstone</td>\n",
       "      <td>4869</td>\n",
       "      <td>LisaRoxanne</td>\n",
       "      <td>Brooklyn</td>\n",
       "      <td>Clinton Hill</td>\n",
       "      <td>40.68514</td>\n",
       "      <td>-73.95976</td>\n",
       "      <td>Entire home/apt</td>\n",
       "      <td>89</td>\n",
       "      <td>1</td>\n",
       "      <td>270</td>\n",
       "      <td>2019-07-05</td>\n",
       "      <td>4.64</td>\n",
       "      <td>1</td>\n",
       "      <td>194</td>\n",
       "    </tr>\n",
       "    <tr>\n",
       "      <th>4</th>\n",
       "      <td>5022</td>\n",
       "      <td>Entire Apt: Spacious Studio/Loft by central park</td>\n",
       "      <td>7192</td>\n",
       "      <td>Laura</td>\n",
       "      <td>Manhattan</td>\n",
       "      <td>East Harlem</td>\n",
       "      <td>40.79851</td>\n",
       "      <td>-73.94399</td>\n",
       "      <td>Entire home/apt</td>\n",
       "      <td>80</td>\n",
       "      <td>10</td>\n",
       "      <td>9</td>\n",
       "      <td>2018-11-19</td>\n",
       "      <td>0.10</td>\n",
       "      <td>1</td>\n",
       "      <td>0</td>\n",
       "    </tr>\n",
       "  </tbody>\n",
       "</table>\n",
       "</div>"
      ],
      "text/plain": [
       "     id                                              name  host_id  \\\n",
       "0  2539                Clean & quiet apt home by the park     2787   \n",
       "1  2595                             Skylit Midtown Castle     2845   \n",
       "2  3647               THE VILLAGE OF HARLEM....NEW YORK !     4632   \n",
       "3  3831                   Cozy Entire Floor of Brownstone     4869   \n",
       "4  5022  Entire Apt: Spacious Studio/Loft by central park     7192   \n",
       "\n",
       "     host_name neighbourhood_group neighbourhood  latitude  longitude  \\\n",
       "0         John            Brooklyn    Kensington  40.64749  -73.97237   \n",
       "1     Jennifer           Manhattan       Midtown  40.75362  -73.98377   \n",
       "2    Elisabeth           Manhattan        Harlem  40.80902  -73.94190   \n",
       "3  LisaRoxanne            Brooklyn  Clinton Hill  40.68514  -73.95976   \n",
       "4        Laura           Manhattan   East Harlem  40.79851  -73.94399   \n",
       "\n",
       "         room_type  price  minimum_nights  number_of_reviews last_review  \\\n",
       "0     Private room    149               1                  9  2018-10-19   \n",
       "1  Entire home/apt    225               1                 45  2019-05-21   \n",
       "2     Private room    150               3                  0         NaN   \n",
       "3  Entire home/apt     89               1                270  2019-07-05   \n",
       "4  Entire home/apt     80              10                  9  2018-11-19   \n",
       "\n",
       "   reviews_per_month  calculated_host_listings_count  availability_365  \n",
       "0               0.21                               6               365  \n",
       "1               0.38                               2               355  \n",
       "2                NaN                               1               365  \n",
       "3               4.64                               1               194  \n",
       "4               0.10                               1                 0  "
      ]
     },
     "execution_count": 3,
     "metadata": {},
     "output_type": "execute_result"
    }
   ],
   "source": [
    "dataset.head(5)"
   ]
  },
  {
   "cell_type": "code",
   "execution_count": 4,
   "metadata": {
    "colab": {
     "base_uri": "https://localhost:8080/"
    },
    "executionInfo": {
     "elapsed": 3764,
     "status": "ok",
     "timestamp": 1618665983885,
     "user": {
      "displayName": "zhibo zhang",
      "photoUrl": "https://lh3.googleusercontent.com/a-/AOh14Gh8_y4pfqR32K5ts_cWnnNmRU9hz13PqIdespQy=s64",
      "userId": "09431813280733956316"
     },
     "user_tz": -180
    },
    "id": "CGAhkxOPnJph",
    "outputId": "5f3660ed-9fe2-425c-f95a-87fa02f67dc8",
    "scrolled": true
   },
   "outputs": [
    {
     "data": {
      "text/plain": [
       "id                                    0\n",
       "name                                 16\n",
       "host_id                               0\n",
       "host_name                            21\n",
       "neighbourhood_group                   0\n",
       "neighbourhood                         0\n",
       "latitude                              0\n",
       "longitude                             0\n",
       "room_type                             0\n",
       "price                                 0\n",
       "minimum_nights                        0\n",
       "number_of_reviews                     0\n",
       "last_review                       10052\n",
       "reviews_per_month                 10052\n",
       "calculated_host_listings_count        0\n",
       "availability_365                      0\n",
       "dtype: int64"
      ]
     },
     "execution_count": 4,
     "metadata": {},
     "output_type": "execute_result"
    }
   ],
   "source": [
    "dataset.isnull().sum()"
   ]
  },
  {
   "cell_type": "code",
   "execution_count": 5,
   "metadata": {
    "executionInfo": {
     "elapsed": 3762,
     "status": "ok",
     "timestamp": 1618665983886,
     "user": {
      "displayName": "zhibo zhang",
      "photoUrl": "https://lh3.googleusercontent.com/a-/AOh14Gh8_y4pfqR32K5ts_cWnnNmRU9hz13PqIdespQy=s64",
      "userId": "09431813280733956316"
     },
     "user_tz": -180
    },
    "id": "-XL9LSmJngit"
   },
   "outputs": [],
   "source": [
    "dataset.fillna({'reviews_per_month':0}, inplace=True) #填空值\n",
    "dataset.fillna({'name':\"noname\"}, inplace=True)\n",
    "dataset.fillna({'host_name':\"nohostname\"}, inplace=True)\n",
    "dataset.fillna({'last_review':\"notreviewed\"}, inplace=True)"
   ]
  },
  {
   "cell_type": "code",
   "execution_count": 6,
   "metadata": {
    "colab": {
     "base_uri": "https://localhost:8080/"
    },
    "executionInfo": {
     "elapsed": 3751,
     "status": "ok",
     "timestamp": 1618665983887,
     "user": {
      "displayName": "zhibo zhang",
      "photoUrl": "https://lh3.googleusercontent.com/a-/AOh14Gh8_y4pfqR32K5ts_cWnnNmRU9hz13PqIdespQy=s64",
      "userId": "09431813280733956316"
     },
     "user_tz": -180
    },
    "id": "qIwftvaGnxkj",
    "outputId": "7b14445a-25a9-404a-c00f-0a194a5bbfec",
    "scrolled": true
   },
   "outputs": [
    {
     "data": {
      "text/plain": [
       "id                                0\n",
       "name                              0\n",
       "host_id                           0\n",
       "host_name                         0\n",
       "neighbourhood_group               0\n",
       "neighbourhood                     0\n",
       "latitude                          0\n",
       "longitude                         0\n",
       "room_type                         0\n",
       "price                             0\n",
       "minimum_nights                    0\n",
       "number_of_reviews                 0\n",
       "last_review                       0\n",
       "reviews_per_month                 0\n",
       "calculated_host_listings_count    0\n",
       "availability_365                  0\n",
       "dtype: int64"
      ]
     },
     "execution_count": 6,
     "metadata": {},
     "output_type": "execute_result"
    }
   ],
   "source": [
    "dataset.isnull().sum()"
   ]
  },
  {
   "cell_type": "markdown",
   "metadata": {
    "id": "JfKUlSy9oKD8"
   },
   "source": [
    "价格"
   ]
  },
  {
   "cell_type": "code",
   "execution_count": 7,
   "metadata": {
    "colab": {
     "base_uri": "https://localhost:8080/"
    },
    "executionInfo": {
     "elapsed": 3744,
     "status": "ok",
     "timestamp": 1618665983888,
     "user": {
      "displayName": "zhibo zhang",
      "photoUrl": "https://lh3.googleusercontent.com/a-/AOh14Gh8_y4pfqR32K5ts_cWnnNmRU9hz13PqIdespQy=s64",
      "userId": "09431813280733956316"
     },
     "user_tz": -180
    },
    "id": "gr2ICv8iomLu",
    "outputId": "70a8521d-e467-4507-9f10-51eec5fe52c5",
    "scrolled": true
   },
   "outputs": [
    {
     "data": {
      "text/plain": [
       "count    48895.000000\n",
       "mean       152.720687\n",
       "std        240.154170\n",
       "min          0.000000\n",
       "25%         69.000000\n",
       "50%        106.000000\n",
       "75%        175.000000\n",
       "max      10000.000000\n",
       "Name: price, dtype: float64"
      ]
     },
     "execution_count": 7,
     "metadata": {},
     "output_type": "execute_result"
    }
   ],
   "source": [
    "dataset[\"price\"].describe()"
   ]
  },
  {
   "cell_type": "code",
   "execution_count": 8,
   "metadata": {
    "colab": {
     "base_uri": "https://localhost:8080/",
     "height": 268
    },
    "executionInfo": {
     "elapsed": 3738,
     "status": "ok",
     "timestamp": 1618665983889,
     "user": {
      "displayName": "zhibo zhang",
      "photoUrl": "https://lh3.googleusercontent.com/a-/AOh14Gh8_y4pfqR32K5ts_cWnnNmRU9hz13PqIdespQy=s64",
      "userId": "09431813280733956316"
     },
     "user_tz": -180
    },
    "id": "sMZVUVCeotsZ",
    "outputId": "c7addb31-3b05-410c-cf7c-5ffed8033064"
   },
   "outputs": [
    {
     "data": {
      "image/png": "[encoded data removed]",
      "text/plain": [
       "<Figure size 432x288 with 1 Axes>"
      ]
     },
     "metadata": {},
     "output_type": "display_data"
    }
   ],
   "source": [
    "hist_price=dataset[\"price\"].hist()"
   ]
  },
  {
   "cell_type": "code",
   "execution_count": 9,
   "metadata": {
    "colab": {
     "base_uri": "https://localhost:8080/",
     "height": 268
    },
    "executionInfo": {
     "elapsed": 4275,
     "status": "ok",
     "timestamp": 1618665984432,
     "user": {
      "displayName": "zhibo zhang",
      "photoUrl": "https://lh3.googleusercontent.com/a-/AOh14Gh8_y4pfqR32K5ts_cWnnNmRU9hz13PqIdespQy=s64",
      "userId": "09431813280733956316"
     },
     "user_tz": -180
    },
    "id": "KZoeAwhso25F",
    "outputId": "bd3876d1-41c1-41fe-b52e-8c1caa21e6c6"
   },
   "outputs": [
    {
     "data": {
      "image/png": "[encoded data removed]",
      "text/plain": [
       "<Figure size 432x288 with 1 Axes>"
      ]
     },
     "metadata": {},
     "output_type": "display_data"
    }
   ],
   "source": [
    "hist_price1=dataset[\"price\"][dataset[\"price\"]<1000].hist()"
   ]
  },
  {
   "cell_type": "code",
   "execution_count": 10,
   "metadata": {
    "colab": {
     "base_uri": "https://localhost:8080/",
     "height": 268
    },
    "executionInfo": {
     "elapsed": 4270,
     "status": "ok",
     "timestamp": 1618665984435,
     "user": {
      "displayName": "zhibo zhang",
      "photoUrl": "https://lh3.googleusercontent.com/a-/AOh14Gh8_y4pfqR32K5ts_cWnnNmRU9hz13PqIdespQy=s64",
      "userId": "09431813280733956316"
     },
     "user_tz": -180
    },
    "id": "B5pTeHn0o8u5",
    "outputId": "597368eb-06d0-4ac3-9d85-904e6eefb26f",
    "scrolled": true
   },
   "outputs": [
    {
     "data": {
      "image/png": "[encoded data removed]",
      "text/plain": [
       "<Figure size 432x288 with 1 Axes>"
      ]
     },
     "metadata": {},
     "output_type": "display_data"
    }
   ],
   "source": [
    "hist_price2=dataset[\"price\"][dataset[\"price\"]<250].hist()"
   ]
  },
  {
   "cell_type": "code",
   "execution_count": 11,
   "metadata": {
    "executionInfo": {
     "elapsed": 4270,
     "status": "ok",
     "timestamp": 1618665984437,
     "user": {
      "displayName": "zhibo zhang",
      "photoUrl": "https://lh3.googleusercontent.com/a-/AOh14Gh8_y4pfqR32K5ts_cWnnNmRU9hz13PqIdespQy=s64",
      "userId": "09431813280733956316"
     },
     "user_tz": -180
    },
    "id": "mH0KI9pApJlK"
   },
   "outputs": [],
   "source": [
    "dataset=dataset[dataset[\"price\"]<250]"
   ]
  },
  {
   "cell_type": "markdown",
   "metadata": {
    "id": "vPAIB40SpQ6s"
   },
   "source": [
    "检查重复行："
   ]
  },
  {
   "cell_type": "code",
   "execution_count": 12,
   "metadata": {
    "colab": {
     "base_uri": "https://localhost:8080/"
    },
    "executionInfo": {
     "elapsed": 4265,
     "status": "ok",
     "timestamp": 1618665984438,
     "user": {
      "displayName": "zhibo zhang",
      "photoUrl": "https://lh3.googleusercontent.com/a-/AOh14Gh8_y4pfqR32K5ts_cWnnNmRU9hz13PqIdespQy=s64",
      "userId": "09431813280733956316"
     },
     "user_tz": -180
    },
    "id": "osV8jXNWsgy7",
    "outputId": "2d1873a7-c398-4091-dcd6-c5b3e52d1065"
   },
   "outputs": [
    {
     "data": {
      "text/plain": [
       "0"
      ]
     },
     "execution_count": 12,
     "metadata": {},
     "output_type": "execute_result"
    }
   ],
   "source": [
    "dataset.duplicated().sum()"
   ]
  },
  {
   "cell_type": "markdown",
   "metadata": {
    "id": "F2eq217UsoYr"
   },
   "source": [
    "去除不必要的行："
   ]
  },
  {
   "cell_type": "code",
   "execution_count": 13,
   "metadata": {
    "executionInfo": {
     "elapsed": 4266,
     "status": "ok",
     "timestamp": 1618665984441,
     "user": {
      "displayName": "zhibo zhang",
      "photoUrl": "https://lh3.googleusercontent.com/a-/AOh14Gh8_y4pfqR32K5ts_cWnnNmRU9hz13PqIdespQy=s64",
      "userId": "09431813280733956316"
     },
     "user_tz": -180
    },
    "id": "DfU8SG0rtdZw"
   },
   "outputs": [],
   "source": [
    "dataset.drop(['name','id','host_id','last_review','host_name','neighbourhood'], axis = 1, inplace = True)"
   ]
  },
  {
   "cell_type": "code",
   "execution_count": 14,
   "metadata": {
    "colab": {
     "base_uri": "https://localhost:8080/",
     "height": 664
    },
    "executionInfo": {
     "elapsed": 5886,
     "status": "ok",
     "timestamp": 1618665986067,
     "user": {
      "displayName": "zhibo zhang",
      "photoUrl": "https://lh3.googleusercontent.com/a-/AOh14Gh8_y4pfqR32K5ts_cWnnNmRU9hz13PqIdespQy=s64",
      "userId": "09431813280733956316"
     },
     "user_tz": -180
    },
    "id": "VobBmp_6tvR3",
    "outputId": "02066db7-a492-4999-fc13-bf5f21e7ee88"
   },
   "outputs": [
    {
     "data": {
      "text/plain": [
       "Index(['neighbourhood_group', 'latitude', 'longitude', 'room_type', 'price',\n",
       "       'minimum_nights', 'number_of_reviews', 'reviews_per_month',\n",
       "       'calculated_host_listings_count', 'availability_365'],\n",
       "      dtype='object')"
      ]
     },
     "execution_count": 14,
     "metadata": {},
     "output_type": "execute_result"
    },
    {
     "data": {
      "image/png": "[encoded data removed]",
      "text/plain": [
       "<Figure size 864x504 with 2 Axes>"
      ]
     },
     "metadata": {},
     "output_type": "display_data"
    }
   ],
   "source": [
    "corr = dataset.corr(method='kendall')\n",
    "plt.figure(figsize=(12,7))\n",
    "sns.heatmap(corr, annot=True)\n",
    "dataset.columns"
   ]
  },
  {
   "cell_type": "code",
   "execution_count": 15,
   "metadata": {
    "executionInfo": {
     "elapsed": 5886,
     "status": "ok",
     "timestamp": 1618665986069,
     "user": {
      "displayName": "zhibo zhang",
      "photoUrl": "https://lh3.googleusercontent.com/a-/AOh14Gh8_y4pfqR32K5ts_cWnnNmRU9hz13PqIdespQy=s64",
      "userId": "09431813280733956316"
     },
     "user_tz": -180
    },
    "id": "n0Xbe4yvv7y7"
   },
   "outputs": [],
   "source": [
    "y=dataset['price']\n",
    "X=dataset.drop(['price'],axis=1)"
   ]
  },
  {
   "cell_type": "code",
   "execution_count": 16,
   "metadata": {
    "executionInfo": {
     "elapsed": 5885,
     "status": "ok",
     "timestamp": 1618665986070,
     "user": {
      "displayName": "zhibo zhang",
      "photoUrl": "https://lh3.googleusercontent.com/a-/AOh14Gh8_y4pfqR32K5ts_cWnnNmRU9hz13PqIdespQy=s64",
      "userId": "09431813280733956316"
     },
     "user_tz": -180
    },
    "id": "dY5xLCV_tzT-"
   },
   "outputs": [],
   "source": [
    "X = pd.get_dummies(X, prefix=['neighbourhood_group', 'room_type'], drop_first=True)"
   ]
  },
  {
   "cell_type": "code",
   "execution_count": 17,
   "metadata": {
    "executionInfo": {
     "elapsed": 5884,
     "status": "ok",
     "timestamp": 1618665986071,
     "user": {
      "displayName": "zhibo zhang",
      "photoUrl": "https://lh3.googleusercontent.com/a-/AOh14Gh8_y4pfqR32K5ts_cWnnNmRU9hz13PqIdespQy=s64",
      "userId": "09431813280733956316"
     },
     "user_tz": -180
    },
    "id": "ofiJzSqixD3s"
   },
   "outputs": [],
   "source": [
    "X_train, X_test, y_train, y_test =  train_test_split(X,y,test_size = 0.2, random_state= 0)"
   ]
  },
  {
   "cell_type": "code",
   "execution_count": 18,
   "metadata": {
    "colab": {
     "base_uri": "https://localhost:8080/"
    },
    "executionInfo": {
     "elapsed": 5879,
     "status": "ok",
     "timestamp": 1618665986072,
     "user": {
      "displayName": "zhibo zhang",
      "photoUrl": "https://lh3.googleusercontent.com/a-/AOh14Gh8_y4pfqR32K5ts_cWnnNmRU9hz13PqIdespQy=s64",
      "userId": "09431813280733956316"
     },
     "user_tz": -180
    },
    "id": "RviEdr3HxJS1",
    "outputId": "6be19d87-42a1-4c2d-c38c-88cabc1d58cf"
   },
   "outputs": [
    {
     "name": "stdout",
     "output_type": "stream",
     "text": [
      "Dimensions of the training feature matrix: (34135, 13)\n",
      "Dimensions of the training target vector: (34135,)\n",
      "Dimensions of the test feature matrix: (8534, 13)\n",
      "Dimensions of the test target vector: (8534,)\n"
     ]
    }
   ],
   "source": [
    "print('Dimensions of the training feature matrix: {}'.format(X_train.shape))\n",
    "print('Dimensions of the training target vector: {}'.format(y_train.shape))\n",
    "print('Dimensions of the test feature matrix: {}'.format(X_test.shape))\n",
    "print('Dimensions of the test target vector: {}'.format(y_test.shape))"
   ]
  },
  {
   "cell_type": "code",
   "execution_count": 19,
   "metadata": {
    "executionInfo": {
     "elapsed": 5876,
     "status": "ok",
     "timestamp": 1618665986072,
     "user": {
      "displayName": "zhibo zhang",
      "photoUrl": "https://lh3.googleusercontent.com/a-/AOh14Gh8_y4pfqR32K5ts_cWnnNmRU9hz13PqIdespQy=s64",
      "userId": "09431813280733956316"
     },
     "user_tz": -180
    },
    "id": "7RrQQCMHxQ__"
   },
   "outputs": [],
   "source": [
    "from sklearn.preprocessing import StandardScaler\n",
    "scaler = StandardScaler()\n",
    "X_train = scaler.fit_transform(X_train)\n",
    "X_test = scaler.fit_transform(X_test)"
   ]
  },
  {
   "cell_type": "code",
   "execution_count": 30,
   "metadata": {
    "id": "vklH90CaxT74"
   },
   "outputs": [
    {
     "data": {
      "text/plain": [
       "GridSearchCV(cv=5, estimator=GradientBoostingRegressor(),\n",
       "             param_grid=[{'learning_rate': [0.01, 0.1, 1],\n",
       "                          'n_estimators': [50, 500, 900]}],\n",
       "             return_train_score=True, scoring='neg_mean_squared_error')"
      ]
     },
     "execution_count": 30,
     "metadata": {},
     "output_type": "execute_result"
    }
   ],
   "source": [
    "from sklearn.ensemble import GradientBoostingRegressor\n",
    "from sklearn.metrics import r2_score, mean_squared_error\n",
    "from sklearn.model_selection import GridSearchCV\n",
    "param_grid = [{'n_estimators': [50,500,900], 'learning_rate': [0.01,0.1,1]}]\n",
    "gbreg=GradientBoostingRegressor()\n",
    "grid_search = GridSearchCV(gbreg, param_grid, cv=5,\n",
    "                           scoring='neg_mean_squared_error',\n",
    "                           return_train_score=True)\n",
    "grid_search.fit(X_train,y_train)"
   ]
  },
  {
   "cell_type": "markdown",
   "metadata": {
    "id": "IcYigPEOyeRC"
   },
   "source": [
    "网格搜索最佳参数"
   ]
  },
  {
   "cell_type": "code",
   "execution_count": 32,
   "metadata": {
    "colab": {
     "base_uri": "https://localhost:8080/"
    },
    "executionInfo": {
     "elapsed": 883,
     "status": "ok",
     "timestamp": 1618664838906,
     "user": {
      "displayName": "zhibo zhang",
      "photoUrl": "https://lh3.googleusercontent.com/a-/AOh14Gh8_y4pfqR32K5ts_cWnnNmRU9hz13PqIdespQy=s64",
      "userId": "09431813280733956316"
     },
     "user_tz": -180
    },
    "id": "VVtY6q_Y2Eir",
    "outputId": "e91e68f1-f9fb-4509-ba29-043c4dbebd3d"
   },
   "outputs": [
    {
     "data": {
      "text/plain": [
       "{'learning_rate': 0.1, 'n_estimators': 900}"
      ]
     },
     "execution_count": 32,
     "metadata": {},
     "output_type": "execute_result"
    }
   ],
   "source": [
    "grid_search.best_params_"
   ]
  },
  {
   "cell_type": "code",
   "execution_count": 34,
   "metadata": {
    "id": "AeUU0gUk68U_"
   },
   "outputs": [
    {
     "name": "stdout",
     "output_type": "stream",
     "text": [
      "R2 score:  0.5815441396198857\n",
      "RMSE:  34.99801362335561\n",
      "   Actual Values  Predicted Values\n",
      "0            215        143.225360\n",
      "1             75        156.504707\n",
      "2            149         96.622063\n",
      "3             85        132.936577\n",
      "4            130        144.926863\n"
     ]
    },
    {
     "data": {
      "image/png": "[encoded data removed]",
      "text/plain": [
       "<Figure size 720x504 with 1 Axes>"
      ]
     },
     "metadata": {},
     "output_type": "display_data"
    }
   ],
   "source": [
    "model1=grid_search.best_estimator_\n",
    "y_pred=model1.predict(X_test)\n",
    "\n",
    "from sklearn.metrics import r2_score\n",
    "print(\"R2 score: \",r2_score(y_test,y_pred))\n",
    "print(\"RMSE: \",np.sqrt(mean_squared_error(y_test,y_pred)))\n",
    "\n",
    "error_diff = pd.DataFrame({'Actual Values': np.array(y_test).flatten(), 'Predicted Values': y_pred.flatten()})\n",
    "print(error_diff.head(5))\n",
    "\n",
    "#Visualize the error\n",
    "df1 = error_diff.head(25)\n",
    "df1.plot(kind='bar',figsize=(10,7))\n",
    "plt.grid(which='major', linestyle='-', linewidth='0.5', color='green')\n",
    "plt.grid(which='minor', linestyle=':', linewidth='0.5', color='black')\n",
    "plt.show()"
   ]
  },
  {
   "cell_type": "code",
   "execution_count": 57,
   "metadata": {},
   "outputs": [],
   "source": [
    "dataset2 = pd.read_csv(r\"D:/DATA/AB_NYC_2019.csv\")"
   ]
  },
  {
   "cell_type": "code",
   "execution_count": 58,
   "metadata": {},
   "outputs": [],
   "source": [
    "dataset2.fillna({'reviews_per_month':0}, inplace=True) #填空值\n",
    "dataset2.fillna({'name':\"noname\"}, inplace=True)\n",
    "dataset2.fillna({'host_name':\"nohostname\"}, inplace=True)\n",
    "dataset2.fillna({'last_review':\"notreviewed\"}, inplace=True)"
   ]
  },
  {
   "cell_type": "code",
   "execution_count": 59,
   "metadata": {},
   "outputs": [],
   "source": [
    "dataset2.drop(['name','id','host_id','last_review','host_name','neighbourhood'], axis = 1, inplace = True)"
   ]
  },
  {
   "cell_type": "code",
   "execution_count": 60,
   "metadata": {},
   "outputs": [],
   "source": [
    "y2=dataset2['price']\n",
    "X2=dataset2.drop(['price'],axis=1)"
   ]
  },
  {
   "cell_type": "code",
   "execution_count": 61,
   "metadata": {},
   "outputs": [],
   "source": [
    "X2 = pd.get_dummies(X2, prefix=['neighbourhood_group', 'room_type'], drop_first=True)"
   ]
  },
  {
   "cell_type": "code",
   "execution_count": 62,
   "metadata": {},
   "outputs": [],
   "source": [
    "X_train2, X_test2, y_train2, y_test2 =  train_test_split(X2,y2,test_size = 0.2, random_state= 0)"
   ]
  },
  {
   "cell_type": "code",
   "execution_count": 63,
   "metadata": {},
   "outputs": [
    {
     "name": "stdout",
     "output_type": "stream",
     "text": [
      "Dimensions of the training feature matrix: (39116, 13)\n",
      "Dimensions of the training target vector: (39116,)\n",
      "Dimensions of the test feature matrix: (9779, 13)\n",
      "Dimensions of the test target vector: (9779,)\n"
     ]
    }
   ],
   "source": [
    "print('Dimensions of the training feature matrix: {}'.format(X_train2.shape))\n",
    "print('Dimensions of the training target vector: {}'.format(y_train2.shape))\n",
    "print('Dimensions of the test feature matrix: {}'.format(X_test2.shape))\n",
    "print('Dimensions of the test target vector: {}'.format(y_test2.shape))"
   ]
  },
  {
   "cell_type": "code",
   "execution_count": 65,
   "metadata": {
    "scrolled": true
   },
   "outputs": [
    {
     "name": "stdout",
     "output_type": "stream",
     "text": [
      "R2 score:  -0.25577749545527184\n",
      "RMSE:  262.89879252672864\n",
      "   Actual Values  Predicted Values\n",
      "0            225        379.675201\n",
      "1            649        256.961130\n",
      "2            300        208.642989\n",
      "3             26         41.508656\n",
      "4            125        133.213625\n"
     ]
    },
    {
     "data": {
      "image/png": "[encoded data removed]",
      "text/plain": [
       "<Figure size 720x504 with 1 Axes>"
      ]
     },
     "metadata": {},
     "output_type": "display_data"
    }
   ],
   "source": [
    "model2 = GradientBoostingRegressor(n_estimators=900, learning_rate=0.1)\n",
    "model2.fit(X_train2,y_train2)\n",
    "\n",
    "y_pred2=model2.predict(X_test2)\n",
    "\n",
    "from sklearn.metrics import r2_score\n",
    "print(\"R2 score: \",r2_score(y_test2,y_pred2))\n",
    "print(\"RMSE: \",np.sqrt(mean_squared_error(y_test2,y_pred2)))\n",
    "\n",
    "error_diff = pd.DataFrame({'Actual Values': np.array(y_test2).flatten(), 'Predicted Values': y_pred2.flatten()})\n",
    "print(error_diff.head(5))\n",
    "\n",
    "df1 = error_diff.head(25)\n",
    "df1.plot(kind='bar',figsize=(10,7))\n",
    "plt.grid(which='major', linestyle='-', linewidth='0.5', color='green')\n",
    "plt.grid(which='minor', linestyle=':', linewidth='0.5', color='black')\n",
    "plt.show()"
   ]
  },
  {
   "cell_type": "code",
   "execution_count": 69,
   "metadata": {},
   "outputs": [],
   "source": [
    "import tpot"
   ]
  },
  {
   "cell_type": "code",
   "execution_count": 75,
   "metadata": {},
   "outputs": [
    {
     "data": {
      "application/vnd.jupyter.widget-view+json": {
       "model_id": "",
       "version_major": 2,
       "version_minor": 0
      },
      "text/plain": [
       "HBox(children=(FloatProgress(value=0.0, description='Optimization Progress', max=120.0, style=ProgressStyle(de…"
      ]
     },
     "metadata": {},
     "output_type": "display_data"
    },
    {
     "name": "stdout",
     "output_type": "stream",
     "text": [
      "\n",
      "Generation 1 - Current best internal CV score: 0.18682790327212134\n",
      "\n",
      "Generation 2 - Current best internal CV score: 0.18682790327212134\n",
      "\n",
      "Generation 3 - Current best internal CV score: 0.18682790327212134\n",
      "\n",
      "Generation 4 - Current best internal CV score: 0.18682790327212134\n",
      "\n",
      "Generation 5 - Current best internal CV score: 0.18682790327212134\n",
      "\n",
      "Best pipeline: RandomForestRegressor(input_matrix, bootstrap=True, max_features=0.8500000000000001, min_samples_leaf=3, min_samples_split=6, n_estimators=100)\n",
      "0.15006458402397094\n"
     ]
    }
   ],
   "source": [
    "from tpot import TPOTRegressor\n",
    "model3=TPOTRegressor(generations=5,population_size=20,verbosity=2,scoring='r2')\n",
    "model3.fit(X_train2,y_train2)\n",
    "print(model3.score(X_test2,y_test2))"
   ]
  },
  {
   "cell_type": "code",
   "execution_count": null,
   "metadata": {},
   "outputs": [],
   "source": []
  }
 ],
 "metadata": {
  "accelerator": "GPU",
  "colab": {
   "authorship_tag": "ABX9TyN5T0ugEVeChL8lQHI9Kt6W",
   "mount_file_id": "1bu8DJVy9HrfYH_1CSSonPBE1FW1IqN1u",
   "name": "ДЗ1.ipynb",
   "provenance": []
  },
  "kernelspec": {
   "display_name": "Python 3",
   "language": "python",
   "name": "python3"
  },
  "language_info": {
   "codemirror_mode": {
    "name": "ipython",
    "version": 3
   },
   "file_extension": ".py",
   "mimetype": "text/x-python",
   "name": "python",
   "nbconvert_exporter": "python",
   "pygments_lexer": "ipython3",
   "version": "3.8.3"
  }
 },
 "nbformat": 4,
 "nbformat_minor": 1
}
